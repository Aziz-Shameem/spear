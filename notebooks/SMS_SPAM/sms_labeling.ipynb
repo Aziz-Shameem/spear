{
 "cells": [
  {
   "cell_type": "markdown",
   "metadata": {},
   "source": [
    "# <font color='brown'>**SMS SPAM DETECTION**</font> "
   ]
  },
  {
   "cell_type": "markdown",
   "metadata": {},
   "source": [
    "### **Installation**"
   ]
  },
  {
   "cell_type": "code",
   "execution_count": 2,
   "metadata": {},
   "outputs": [],
   "source": [
    "import sys\n",
    "sys.path.append('../../')"
   ]
  },
  {
   "cell_type": "markdown",
   "metadata": {},
   "source": [
    "### **Load SMS Dataset**\n",
    "\n",
    "The SMS Spam Collection is a set of SMS tagged messages that have been collected for SMS Spam research. It contains one set of SMS messages in English of 5,574 messages, tagged acording being ham (legitimate) or spam. We have used **ELMo** embeddings as features to represent sms sentences.\n"
   ]
  },
  {
   "cell_type": "code",
   "execution_count": 3,
   "metadata": {},
   "outputs": [
    {
     "data": {
      "text/html": [
       "<div>\n",
       "<style scoped>\n",
       "    .dataframe tbody tr th:only-of-type {\n",
       "        vertical-align: middle;\n",
       "    }\n",
       "\n",
       "    .dataframe tbody tr th {\n",
       "        vertical-align: top;\n",
       "    }\n",
       "\n",
       "    .dataframe thead th {\n",
       "        text-align: right;\n",
       "    }\n",
       "</style>\n",
       "<table border=\"1\" class=\"dataframe\">\n",
       "  <thead>\n",
       "    <tr style=\"text-align: right;\">\n",
       "      <th></th>\n",
       "      <th>SMS TEXT</th>\n",
       "      <th>CLASS</th>\n",
       "    </tr>\n",
       "  </thead>\n",
       "  <tbody>\n",
       "    <tr>\n",
       "      <th>0</th>\n",
       "      <td>Go until jurong point, crazy.. Available only ...</td>\n",
       "      <td>0</td>\n",
       "    </tr>\n",
       "    <tr>\n",
       "      <th>1</th>\n",
       "      <td>Ok lar... Joking wif u oni...\\n</td>\n",
       "      <td>0</td>\n",
       "    </tr>\n",
       "    <tr>\n",
       "      <th>2</th>\n",
       "      <td>Free entry in 2 a wkly comp to win FA Cup fina...</td>\n",
       "      <td>1</td>\n",
       "    </tr>\n",
       "    <tr>\n",
       "      <th>3</th>\n",
       "      <td>U dun say so early hor... U c already then say...</td>\n",
       "      <td>0</td>\n",
       "    </tr>\n",
       "    <tr>\n",
       "      <th>4</th>\n",
       "      <td>Nah I don't think he goes to usf, he lives aro...</td>\n",
       "      <td>0</td>\n",
       "    </tr>\n",
       "    <tr>\n",
       "      <th>5</th>\n",
       "      <td>FreeMsg Hey there darling it's been 3 week's n...</td>\n",
       "      <td>1</td>\n",
       "    </tr>\n",
       "    <tr>\n",
       "      <th>6</th>\n",
       "      <td>Even my brother is not like to speak with me. ...</td>\n",
       "      <td>0</td>\n",
       "    </tr>\n",
       "    <tr>\n",
       "      <th>7</th>\n",
       "      <td>As per your request 'Melle Melle (Oru Minnamin...</td>\n",
       "      <td>0</td>\n",
       "    </tr>\n",
       "    <tr>\n",
       "      <th>8</th>\n",
       "      <td>WINNER!! As a valued network customer you have...</td>\n",
       "      <td>1</td>\n",
       "    </tr>\n",
       "    <tr>\n",
       "      <th>9</th>\n",
       "      <td>Had your mobile 11 months or more? U R entitle...</td>\n",
       "      <td>1</td>\n",
       "    </tr>\n",
       "  </tbody>\n",
       "</table>\n",
       "</div>"
      ],
      "text/plain": [
       "                                            SMS TEXT  CLASS\n",
       "0  Go until jurong point, crazy.. Available only ...      0\n",
       "1                    Ok lar... Joking wif u oni...\\n      0\n",
       "2  Free entry in 2 a wkly comp to win FA Cup fina...      1\n",
       "3  U dun say so early hor... U c already then say...      0\n",
       "4  Nah I don't think he goes to usf, he lives aro...      0\n",
       "5  FreeMsg Hey there darling it's been 3 week's n...      1\n",
       "6  Even my brother is not like to speak with me. ...      0\n",
       "7  As per your request 'Melle Melle (Oru Minnamin...      0\n",
       "8  WINNER!! As a valued network customer you have...      1\n",
       "9  Had your mobile 11 months or more? U R entitle...      1"
      ]
     },
     "metadata": {},
     "output_type": "display_data"
    }
   ],
   "source": [
    "from helper.utils import load_data_to_numpy\n",
    "import numpy as np\n",
    "import pandas as pd\n",
    "\n",
    "X, X_feats, Y = load_data_to_numpy()\n",
    "\n",
    "df = pd.DataFrame({'SMS TEXT':X, 'CLASS':Y})\n",
    "result = df.head(10)\n",
    "display(result)"
   ]
  },
  {
   "cell_type": "markdown",
   "metadata": {},
   "source": [
    "\n",
    "### **Representation of class Labels**\n",
    "\n",
    "<p>All the class labels for which we define labeling functions are encoded in enum and utilized in our next tasks</p>\n",
    "\n",
    "<p>SPAM dataset contains 2 classes i.e <b><font color='red'>HAM</font></b> and <b><font color='red'>SPAM</font></b> </p>"
   ]
  },
  {
   "cell_type": "code",
   "execution_count": 4,
   "metadata": {},
   "outputs": [],
   "source": [
    "import enum\n",
    "\n",
    "# enum to hold the class labels\n",
    "class ClassLabels(enum.Enum):\n",
    "    SPAM = 1\n",
    "    HAM = 0\n",
    "\n",
    "THRESHOLD = 0.8"
   ]
  },
  {
   "cell_type": "markdown",
   "metadata": {},
   "source": [
    "During labeling the unlabelled data we lookup for few keywords to assign a class SMS.\n",
    "\n",
    "<b>Example</b> : *If a message contains apply or buy in it then most probably the message is spam*"
   ]
  },
  {
   "cell_type": "code",
   "execution_count": 5,
   "metadata": {},
   "outputs": [],
   "source": [
    "trigWord1 = {\"free\",\"credit\",\"cheap\",\"apply\",\"buy\",\"attention\",\"shop\",\"sex\",\"soon\",\"now\",\"spam\"}\n",
    "trigWord2 = {\"gift\",\"click\",\"new\",\"online\",\"discount\",\"earn\",\"miss\",\"hesitate\",\"exclusive\",\"urgent\"}\n",
    "trigWord3 = {\"cash\",\"refund\",\"insurance\",\"money\",\"guaranteed\",\"save\",\"win\",\"teen\",\"weight\",\"hair\"}\n",
    "notFreeWords = {\"toll\",\"Toll\",\"freely\",\"call\",\"meet\",\"talk\",\"feedback\"}\n",
    "notFreeSubstring = {\"not free\",\"you are\",\"when\",\"wen\"}\n",
    "firstAndSecondPersonWords = {\"I\",\"i\",\"u\",\"you\",\"ur\",\"your\",\"our\",\"we\",\"us\",\"youre\"}\n",
    "thirdPersonWords = {\"He\",\"he\",\"She\",\"she\",\"they\",\"They\",\"Them\",\"them\",\"their\",\"Their\"}"
   ]
  },
  {
   "cell_type": "markdown",
   "metadata": {},
   "source": [
    "### **Labeling Functions**\n",
    "\n",
    "#### Labeling functions are helpful for users to assign a class for an instance programatically. ####\n",
    "\n",
    "These labeling functions are heuristics which might yeild very <b><font color='red'>noisy lables</font></b> (or) <b><font color='red'>abstains</font></b> on many datapoints. Each labeling function is associated with a class and each labeling function can trigger on its corresponding class given an instance. We use **`@labeling_function(name,resources, preprocessor, label)`** decorator for declaring a labeling function. Before labeling an instance we can preprocess instance through preprocessors."
   ]
  },
  {
   "cell_type": "markdown",
   "metadata": {},
   "source": [
    "### **Declaration of simple labeling functions**"
   ]
  },
  {
   "cell_type": "code",
   "execution_count": 6,
   "metadata": {},
   "outputs": [
    {
     "name": "stdout",
     "output_type": "stream",
     "text": [
      "sampleLabels.red\n"
     ]
    }
   ],
   "source": [
    "from spear.labeling import labeling_function, ABSTAIN\n",
    "\n",
    "class sampleLabels(enum.Enum):\n",
    "    red = 1\n",
    "    green = 0\n",
    "\n",
    "@labeling_function(label=sampleLabels.red,name=\"SAMPLE_LABELING\")\n",
    "def sample_labeling(x):\n",
    "    '''A sample labeling function which predicts red when x is \"red\"\n",
    "    label=1 argument in decorator indicates that this lf is corresponding to class red'''\n",
    "    if(x == \"red\"):\n",
    "        return sampleLabels.red\n",
    "    else:\n",
    "        return ABSTAIN\n",
    "\n",
    "label, _ = sample_labeling(\"red\")\n",
    "print(label)"
   ]
  },
  {
   "cell_type": "markdown",
   "metadata": {},
   "source": [
    "### **Declaration of simple preprocessor functions**\n",
    "\n",
    "\n",
    "For most of the tasks in NLP, computer vivsion instead of using the raw datapoint we preprocess the datapoint and then label it. Preprocessor functions are used to preprocess an instance before labeling it. We use **`@preprocessor(name,resources)`** decorator to declare a function as preprocessor."
   ]
  },
  {
   "cell_type": "code",
   "execution_count": 7,
   "metadata": {},
   "outputs": [
    {
     "name": "stdout",
     "output_type": "stream",
     "text": [
      "red\n"
     ]
    }
   ],
   "source": [
    "from spear.labeling import preprocessor\n",
    "\n",
    "\n",
    "@preprocessor(name = \"LOWER_CASE\")\n",
    "def convert_to_lower(x):\n",
    "    return x.lower().strip()\n",
    "\n",
    "lower = convert_to_lower(\"RED\")\n",
    "print(lower)"
   ]
  },
  {
   "cell_type": "markdown",
   "metadata": {},
   "source": [
    "### **Declaration of continious scoring functions**\n",
    "\n",
    "Along with labeling instances with hard labels we aslo provide soft labels ranging from 0-1 for an instance.\n",
    "\n",
    "We use **`@continuous_scorer(name,resources)`** decorator to declare a function as continious scorer."
   ]
  },
  {
   "cell_type": "code",
   "execution_count": 8,
   "metadata": {},
   "outputs": [
    {
     "name": "stdout",
     "output_type": "stream",
     "text": [
      "0.2\n"
     ]
    }
   ],
   "source": [
    "from spear.labeling import continuous_scorer\n",
    "\n",
    "@continuous_scorer(name=\"INVERSE  SCORER\")\n",
    "def continious(x):\n",
    "    if x<1:\n",
    "        return x\n",
    "    else:\n",
    "        return 1/x\n",
    "    \n",
    "\n",
    "score = continious(5)\n",
    "print(score)"
   ]
  },
  {
   "cell_type": "markdown",
   "metadata": {},
   "source": [
    "### **Few labeling functions to annotate SMS Dataset**\n",
    "\n",
    "We have used glove embeddings as part of our continuos scorer to assign soft labels (similarity score).\n",
    "\n",
    "`word_similarity` is a function with `@continuous_scorer(name,resources)` decorator to calculate the similarity with trigger words."
   ]
  },
  {
   "cell_type": "code",
   "execution_count": 9,
   "metadata": {},
   "outputs": [
    {
     "name": "stdout",
     "output_type": "stream",
     "text": [
      "model loading\n",
      "model loaded\n"
     ]
    }
   ],
   "source": [
    "from spear.labeling import labeling_function, ABSTAIN, preprocessor\n",
    "\n",
    "from helper.con_scorer import word_similarity\n",
    "import re\n",
    "\n",
    "\n",
    "@preprocessor()\n",
    "def convert_to_lower(x):\n",
    "    return x.lower().strip()\n",
    "\n",
    "\n",
    "@labeling_function(resources=dict(keywords=trigWord1),pre=[convert_to_lower],label=ClassLabels.SPAM)\n",
    "def LF1(c,**kwargs):    \n",
    "    if len(kwargs[\"keywords\"].intersection(c.split())) > 0:\n",
    "        return ClassLabels.SPAM\n",
    "    else:\n",
    "        return ABSTAIN\n",
    "\n",
    "@labeling_function(resources=dict(keywords=trigWord2),pre=[convert_to_lower],label=ClassLabels.SPAM)\n",
    "def LF2(c,**kwargs):\n",
    "    if len(kwargs[\"keywords\"].intersection(c.split())) > 0:\n",
    "        return ClassLabels.SPAM\n",
    "    else:\n",
    "        return ABSTAIN\n",
    "\n",
    "@labeling_function(resources=dict(keywords=trigWord3),pre=[convert_to_lower],label=ClassLabels.SPAM)\n",
    "def LF3(c,**kwargs):\n",
    "    if len(kwargs[\"keywords\"].intersection(c.split())) > 0:\n",
    "        return ClassLabels.SPAM \n",
    "    else:\n",
    "        return ABSTAIN\n",
    "\n",
    "@labeling_function(resources=dict(keywords=notFreeWords),pre=[convert_to_lower],label=ClassLabels.HAM)\n",
    "def LF4(c,**kwargs):\n",
    "    if \"free\" in c.split() and len(kwargs[\"keywords\"].intersection(c.split()))>0:\n",
    "        return ClassLabels.HAM\n",
    "    else:\n",
    "        return ABSTAIN\n",
    "\n",
    "@labeling_function(resources=dict(keywords=notFreeSubstring),pre=[convert_to_lower],label=ClassLabels.HAM)\n",
    "def LF5(c,**kwargs):\n",
    "    for pattern in kwargs[\"keywords\"]:    \n",
    "        if \"free\" in c.split() and re.search(pattern,c, flags= re.I):\n",
    "            return ClassLabels.HAM\n",
    "    return ABSTAIN\n",
    "\n",
    "@labeling_function(resources=dict(keywords=firstAndSecondPersonWords),pre=[convert_to_lower],label=ClassLabels.HAM)\n",
    "def LF6(c,**kwargs):\n",
    "    if \"free\" in c.split() and len(kwargs[\"keywords\"].intersection(c.split()))>0:\n",
    "        return ClassLabels.HAM\n",
    "    else:\n",
    "        return ABSTAIN\n",
    "\n",
    "\n",
    "@labeling_function(resources=dict(keywords=thirdPersonWords),pre=[convert_to_lower],label=ClassLabels.HAM)\n",
    "def LF7(c,**kwargs):\n",
    "    if \"free\" in c.split() and len(kwargs[\"keywords\"].intersection(c.split()))>0:\n",
    "        return ClassLabels.HAM\n",
    "    else:\n",
    "        return ABSTAIN\n",
    "\n",
    "@labeling_function(label=ClassLabels.SPAM)\n",
    "def LF8(c,**kwargs):\n",
    "    if (sum(1 for ch in c if ch.isupper()) > 6):\n",
    "        return ClassLabels.SPAM\n",
    "    else:\n",
    "        return ABSTAIN\n",
    "\n",
    "# @labeling_function()\n",
    "# def LF9(c,**kwargs):\n",
    "#     return ClassLabels.HAM.value\n",
    "\n",
    "@labeling_function(cont_scorer=word_similarity,resources=dict(keywords=trigWord1),pre=[convert_to_lower],label=ClassLabels.SPAM)\n",
    "def CLF1(c,**kwargs):\n",
    "    if kwargs[\"continuous_score\"] >= THRESHOLD:\n",
    "        return ClassLabels.SPAM\n",
    "    else:\n",
    "        return ABSTAIN\n",
    "\n",
    "@labeling_function(cont_scorer=word_similarity,resources=dict(keywords=trigWord2),pre=[convert_to_lower],label=ClassLabels.SPAM)\n",
    "def CLF2(c,**kwargs):\n",
    "    if kwargs[\"continuous_score\"] >= THRESHOLD:\n",
    "        return ClassLabels.SPAM\n",
    "    else:\n",
    "        return ABSTAIN\n",
    "\n",
    "@labeling_function(cont_scorer=word_similarity,resources=dict(keywords=trigWord3),pre=[convert_to_lower],label=ClassLabels.SPAM)\n",
    "def CLF3(c,**kwargs):\n",
    "    if kwargs[\"continuous_score\"] >= THRESHOLD:\n",
    "        return ClassLabels.SPAM\n",
    "    else:\n",
    "        return ABSTAIN\n",
    "\n",
    "@labeling_function(cont_scorer=word_similarity,resources=dict(keywords=notFreeWords),pre=[convert_to_lower],label=ClassLabels.HAM)\n",
    "def CLF4(c,**kwargs):\n",
    "    if kwargs[\"continuous_score\"] >= THRESHOLD:\n",
    "        return ClassLabels.HAM\n",
    "    else:\n",
    "        return ABSTAIN\n",
    "\n",
    "@labeling_function(cont_scorer=word_similarity,resources=dict(keywords=notFreeSubstring),pre=[convert_to_lower],label=ClassLabels.HAM)\n",
    "def CLF5(c,**kwargs):\n",
    "    if kwargs[\"continuous_score\"] >= THRESHOLD:\n",
    "        return ClassLabels.HAM\n",
    "    else:\n",
    "        return ABSTAIN\n",
    "\n",
    "@labeling_function(cont_scorer=word_similarity,resources=dict(keywords=firstAndSecondPersonWords),pre=[convert_to_lower],label=ClassLabels.HAM)\n",
    "def CLF6(c,**kwargs):\n",
    "    if kwargs[\"continuous_score\"] >= THRESHOLD:\n",
    "        return ClassLabels.HAM\n",
    "    else:\n",
    "        return ABSTAIN\n",
    "\n",
    "@labeling_function(cont_scorer=word_similarity,resources=dict(keywords=thirdPersonWords),pre=[convert_to_lower],label=ClassLabels.HAM)\n",
    "def CLF7(c,**kwargs):\n",
    "    if kwargs[\"continuous_score\"] >= THRESHOLD:\n",
    "        return ClassLabels.HAM\n",
    "    else:\n",
    "        return ABSTAIN\n",
    "\n",
    "@labeling_function(cont_scorer=lambda x: 1-np.exp(float(-(sum(1 for ch in x if ch.isupper()))/2)),label=ClassLabels.SPAM)\n",
    "def CLF8(c,**kwargs):\n",
    "    if kwargs[\"continuous_score\"] >= THRESHOLD:\n",
    "        return ClassLabels.SPAM\n",
    "    else:\n",
    "        return ABSTAIN\n",
    "\n",
    "# @labeling_function()\n",
    "# def CLF9(c,**kwargs):\n",
    "#     return ClassLabels.HAM\n"
   ]
  },
  {
   "cell_type": "markdown",
   "metadata": {},
   "source": [
    "### **LFSet**\n",
    "\n",
    "Place holder for declared labeling functions. "
   ]
  },
  {
   "cell_type": "code",
   "execution_count": 10,
   "metadata": {},
   "outputs": [],
   "source": [
    "from spear.labeling import LFSet\n",
    "\n",
    "LFS = [LF1,\n",
    "    LF2,\n",
    "    LF3,\n",
    "    LF4,\n",
    "    LF5,\n",
    "    LF6,\n",
    "    LF7,\n",
    "    LF8,\n",
    "    CLF1,\n",
    "    CLF2,\n",
    "    CLF3,\n",
    "    CLF4,\n",
    "    CLF5,\n",
    "    CLF6,\n",
    "    CLF7,\n",
    "    CLF8\n",
    "      ]\n",
    "\n",
    "rules = LFSet(\"SPAM_LF\")\n",
    "rules.add_lf_list(LFS)"
   ]
  },
  {
   "cell_type": "markdown",
   "metadata": {},
   "source": [
    "### **Label the dataset with defined labeling functions**\n",
    "\n",
    "We can label the dataset using PreLabels by providing as set of labeling funtions. We can also provide the golden labels of the dataset if we already have some labeled data to evaluate our lf's.We provide both the  <b><font color='blue'>soft labels</font></b> and  <b><font color='blue'>hard labels</font></b> given an instance, although these labels can be very noisy we provide few frameworks to effectively use these rules to label unlabelled data."
   ]
  },
  {
   "cell_type": "code",
   "execution_count": 12,
   "metadata": {},
   "outputs": [
    {
     "name": "stderr",
     "output_type": "stream",
     "text": [
      "100%|██████████| 5574/5574 [06:01<00:00, 15.44it/s]\n"
     ]
    }
   ],
   "source": [
    "from spear.labeling import PreLabels\n",
    "\n",
    "R = np.zeros((X.shape[0],len(rules.get_lfs())))\n",
    "\n",
    "sms_noisy_labels = PreLabels(name=\"sms\",\n",
    "                               data=X,\n",
    "                               data_feats = X_feats,\n",
    "                               gold_labels=Y,\n",
    "                               rules=rules,\n",
    "                               labels_enum=ClassLabels,\n",
    "                               num_classes=2)\n",
    "L,S = sms_noisy_labels.get_labels()"
   ]
  },
  {
   "cell_type": "markdown",
   "metadata": {},
   "source": [
    "### **Analyse and refining labeling functions**\n",
    "\n",
    "Once we are done with labeling the dataset with given lf's, we can analyse the labeling functions we declared by calculating  <b><font color='blue'>coverage, overlap, conflicts, empirical accuracy</font></b> for of each lf which helps us to re-iterate on the process by refining new lf's."
   ]
  },
  {
   "cell_type": "code",
   "execution_count": 13,
   "metadata": {
    "tags": []
   },
   "outputs": [
    {
     "data": {
      "image/png": "[encoded data removed]",
      "text/plain": [
       "<Figure size 1080x720 with 6 Axes>"
      ]
     },
     "metadata": {
      "needs_background": "light"
     },
     "output_type": "display_data"
    },
    {
     "data": {
      "text/html": [
       "<div>\n",
       "<style scoped>\n",
       "    .dataframe tbody tr th:only-of-type {\n",
       "        vertical-align: middle;\n",
       "    }\n",
       "\n",
       "    .dataframe tbody tr th {\n",
       "        vertical-align: top;\n",
       "    }\n",
       "\n",
       "    .dataframe thead th {\n",
       "        text-align: right;\n",
       "    }\n",
       "</style>\n",
       "<table border=\"1\" class=\"dataframe\">\n",
       "  <thead>\n",
       "    <tr style=\"text-align: right;\">\n",
       "      <th></th>\n",
       "      <th>Polarity</th>\n",
       "      <th>Coverage</th>\n",
       "      <th>Overlaps</th>\n",
       "      <th>Conflicts</th>\n",
       "      <th>Correct</th>\n",
       "      <th>Incorrect</th>\n",
       "      <th>Emp. Acc.</th>\n",
       "    </tr>\n",
       "  </thead>\n",
       "  <tbody>\n",
       "    <tr>\n",
       "      <th>LF1</th>\n",
       "      <td>[-1.0, 0.0]</td>\n",
       "      <td>0.098134</td>\n",
       "      <td>0.086114</td>\n",
       "      <td>0.061356</td>\n",
       "      <td>294</td>\n",
       "      <td>253</td>\n",
       "      <td>0.537477</td>\n",
       "    </tr>\n",
       "    <tr>\n",
       "      <th>LF2</th>\n",
       "      <td>[-1.0, 0.0]</td>\n",
       "      <td>0.048260</td>\n",
       "      <td>0.048260</td>\n",
       "      <td>0.024220</td>\n",
       "      <td>152</td>\n",
       "      <td>117</td>\n",
       "      <td>0.565056</td>\n",
       "    </tr>\n",
       "    <tr>\n",
       "      <th>LF3</th>\n",
       "      <td>[-1.0, 0.0]</td>\n",
       "      <td>0.036598</td>\n",
       "      <td>0.036598</td>\n",
       "      <td>0.016505</td>\n",
       "      <td>80</td>\n",
       "      <td>124</td>\n",
       "      <td>0.392157</td>\n",
       "    </tr>\n",
       "    <tr>\n",
       "      <th>LF4</th>\n",
       "      <td>[-1.0, 1.0]</td>\n",
       "      <td>0.012379</td>\n",
       "      <td>0.012379</td>\n",
       "      <td>0.012379</td>\n",
       "      <td>55</td>\n",
       "      <td>14</td>\n",
       "      <td>0.797101</td>\n",
       "    </tr>\n",
       "    <tr>\n",
       "      <th>LF5</th>\n",
       "      <td>[-1.0, 1.0]</td>\n",
       "      <td>0.003409</td>\n",
       "      <td>0.003409</td>\n",
       "      <td>0.003409</td>\n",
       "      <td>10</td>\n",
       "      <td>9</td>\n",
       "      <td>0.526316</td>\n",
       "    </tr>\n",
       "    <tr>\n",
       "      <th>LF6</th>\n",
       "      <td>[-1.0, 1.0]</td>\n",
       "      <td>0.027808</td>\n",
       "      <td>0.027808</td>\n",
       "      <td>0.027808</td>\n",
       "      <td>117</td>\n",
       "      <td>38</td>\n",
       "      <td>0.754839</td>\n",
       "    </tr>\n",
       "    <tr>\n",
       "      <th>LF7</th>\n",
       "      <td>[-1.0, 1.0]</td>\n",
       "      <td>0.001435</td>\n",
       "      <td>0.001435</td>\n",
       "      <td>0.001435</td>\n",
       "      <td>0</td>\n",
       "      <td>8</td>\n",
       "      <td>0.000000</td>\n",
       "    </tr>\n",
       "    <tr>\n",
       "      <th>LF8</th>\n",
       "      <td>[-1.0, 0.0]</td>\n",
       "      <td>0.186042</td>\n",
       "      <td>0.186042</td>\n",
       "      <td>0.094546</td>\n",
       "      <td>435</td>\n",
       "      <td>602</td>\n",
       "      <td>0.419479</td>\n",
       "    </tr>\n",
       "    <tr>\n",
       "      <th>CLF1</th>\n",
       "      <td>[-1.0, 0.0]</td>\n",
       "      <td>0.065124</td>\n",
       "      <td>0.064406</td>\n",
       "      <td>0.047542</td>\n",
       "      <td>175</td>\n",
       "      <td>188</td>\n",
       "      <td>0.482094</td>\n",
       "    </tr>\n",
       "    <tr>\n",
       "      <th>CLF2</th>\n",
       "      <td>[-1.0, 0.0]</td>\n",
       "      <td>0.049695</td>\n",
       "      <td>0.049157</td>\n",
       "      <td>0.024937</td>\n",
       "      <td>158</td>\n",
       "      <td>119</td>\n",
       "      <td>0.570397</td>\n",
       "    </tr>\n",
       "    <tr>\n",
       "      <th>CLF3</th>\n",
       "      <td>[-1.0, 0.0]</td>\n",
       "      <td>0.044313</td>\n",
       "      <td>0.044133</td>\n",
       "      <td>0.019555</td>\n",
       "      <td>82</td>\n",
       "      <td>165</td>\n",
       "      <td>0.331984</td>\n",
       "    </tr>\n",
       "    <tr>\n",
       "      <th>CLF4</th>\n",
       "      <td>[-1.0, 1.0]</td>\n",
       "      <td>0.024399</td>\n",
       "      <td>0.016326</td>\n",
       "      <td>0.010944</td>\n",
       "      <td>18</td>\n",
       "      <td>118</td>\n",
       "      <td>0.132353</td>\n",
       "    </tr>\n",
       "    <tr>\n",
       "      <th>CLF5</th>\n",
       "      <td>[-1.0, 1.0]</td>\n",
       "      <td>0.055974</td>\n",
       "      <td>0.033010</td>\n",
       "      <td>0.021708</td>\n",
       "      <td>18</td>\n",
       "      <td>294</td>\n",
       "      <td>0.057692</td>\n",
       "    </tr>\n",
       "    <tr>\n",
       "      <th>CLF6</th>\n",
       "      <td>[-1.0, 1.0]</td>\n",
       "      <td>0.336024</td>\n",
       "      <td>0.192321</td>\n",
       "      <td>0.153032</td>\n",
       "      <td>233</td>\n",
       "      <td>1640</td>\n",
       "      <td>0.124399</td>\n",
       "    </tr>\n",
       "    <tr>\n",
       "      <th>CLF7</th>\n",
       "      <td>[-1.0, 1.0]</td>\n",
       "      <td>0.036957</td>\n",
       "      <td>0.036957</td>\n",
       "      <td>0.010585</td>\n",
       "      <td>2</td>\n",
       "      <td>204</td>\n",
       "      <td>0.009709</td>\n",
       "    </tr>\n",
       "    <tr>\n",
       "      <th>CLF8</th>\n",
       "      <td>[-1.0, 0.0]</td>\n",
       "      <td>0.294582</td>\n",
       "      <td>0.251525</td>\n",
       "      <td>0.149085</td>\n",
       "      <td>966</td>\n",
       "      <td>676</td>\n",
       "      <td>0.588307</td>\n",
       "    </tr>\n",
       "  </tbody>\n",
       "</table>\n",
       "</div>"
      ],
      "text/plain": [
       "         Polarity  Coverage  Overlaps  Conflicts  Correct  Incorrect  \\\n",
       "LF1   [-1.0, 0.0]  0.098134  0.086114   0.061356      294        253   \n",
       "LF2   [-1.0, 0.0]  0.048260  0.048260   0.024220      152        117   \n",
       "LF3   [-1.0, 0.0]  0.036598  0.036598   0.016505       80        124   \n",
       "LF4   [-1.0, 1.0]  0.012379  0.012379   0.012379       55         14   \n",
       "LF5   [-1.0, 1.0]  0.003409  0.003409   0.003409       10          9   \n",
       "LF6   [-1.0, 1.0]  0.027808  0.027808   0.027808      117         38   \n",
       "LF7   [-1.0, 1.0]  0.001435  0.001435   0.001435        0          8   \n",
       "LF8   [-1.0, 0.0]  0.186042  0.186042   0.094546      435        602   \n",
       "CLF1  [-1.0, 0.0]  0.065124  0.064406   0.047542      175        188   \n",
       "CLF2  [-1.0, 0.0]  0.049695  0.049157   0.024937      158        119   \n",
       "CLF3  [-1.0, 0.0]  0.044313  0.044133   0.019555       82        165   \n",
       "CLF4  [-1.0, 1.0]  0.024399  0.016326   0.010944       18        118   \n",
       "CLF5  [-1.0, 1.0]  0.055974  0.033010   0.021708       18        294   \n",
       "CLF6  [-1.0, 1.0]  0.336024  0.192321   0.153032      233       1640   \n",
       "CLF7  [-1.0, 1.0]  0.036957  0.036957   0.010585        2        204   \n",
       "CLF8  [-1.0, 0.0]  0.294582  0.251525   0.149085      966        676   \n",
       "\n",
       "      Emp. Acc.  \n",
       "LF1    0.537477  \n",
       "LF2    0.565056  \n",
       "LF3    0.392157  \n",
       "LF4    0.797101  \n",
       "LF5    0.526316  \n",
       "LF6    0.754839  \n",
       "LF7    0.000000  \n",
       "LF8    0.419479  \n",
       "CLF1   0.482094  \n",
       "CLF2   0.570397  \n",
       "CLF3   0.331984  \n",
       "CLF4   0.132353  \n",
       "CLF5   0.057692  \n",
       "CLF6   0.124399  \n",
       "CLF7   0.009709  \n",
       "CLF8   0.588307  "
      ]
     },
     "metadata": {},
     "output_type": "display_data"
    }
   ],
   "source": [
    "from spear.labeling import LFAnalysis\n",
    "\n",
    "analyse = sms_noisy_labels.analyse_lfs(plot=True)\n",
    "\n",
    "result = analyse.head(16)\n",
    "display(result)"
   ]
  },
  {
   "cell_type": "code",
   "execution_count": 15,
   "metadata": {},
   "outputs": [],
   "source": [
    "sms_noisy_labels.generate_pickle()\n",
    "sms_noisy_labels.generate_json()"
   ]
  },
  {
   "cell_type": "code",
   "execution_count": null,
   "metadata": {},
   "outputs": [],
   "source": []
  }
 ],
 "metadata": {
  "kernelspec": {
   "display_name": "Python 3",
   "language": "python",
   "name": "python3"
  },
  "language_info": {
   "codemirror_mode": {
    "name": "ipython",
    "version": 3
   },
   "file_extension": ".py",
   "mimetype": "text/x-python",
   "name": "python",
   "nbconvert_exporter": "python",
   "pygments_lexer": "ipython3",
   "version": "3.6.9"
  },
  "metadata": {
   "interpreter": {
    "hash": "31f2aee4e71d21fbe5cf8b01ff0e069b9275f58929596ceb00d14d90e3e16cd6"
   }
  }
 },
 "nbformat": 4,
 "nbformat_minor": 4
}
