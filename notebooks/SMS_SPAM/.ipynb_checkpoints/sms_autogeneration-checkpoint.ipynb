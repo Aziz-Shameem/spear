{
 "cells": [
  {
   "cell_type": "code",
   "execution_count": 1,
   "id": "f74d2ad4",
   "metadata": {},
   "outputs": [],
   "source": [
    "import sys\n",
    "sys.path.append('../../')"
   ]
  },
  {
   "cell_type": "code",
   "execution_count": 2,
   "id": "fc9f11ba",
   "metadata": {},
   "outputs": [],
   "source": [
    "# from helper.utils import load_data_to_numpy\n",
    "# import numpy as np\n",
    "# import pandas as pd\n",
    "\n",
    "# X, X_feats, Y = load_data_to_numpy()\n",
    "\n",
    "# df = pd.DataFrame({'SMS TEXT':X})\n",
    "# result = df.head(10)\n",
    "# display(result)"
   ]
  },
  {
   "cell_type": "code",
   "execution_count": 3,
   "id": "025df659",
   "metadata": {},
   "outputs": [],
   "source": [
    "import enum\n",
    "\n",
    "# enum to hold the class labels\n",
    "class ClassLabels(enum.Enum):\n",
    "    SPAM = 1\n",
    "    HAM = 0\n",
    "\n",
    "THRESHOLD = 0.8\n",
    "\n",
    "trigWord1 = {\"free\",\"credit\",\"cheap\",\"apply\",\"buy\",\"attention\",\"shop\",\"sex\",\"soon\",\"now\",\"spam\"}\n",
    "trigWord2 = {\"gift\",\"click\",\"new\",\"online\",\"discount\",\"earn\",\"miss\",\"hesitate\",\"exclusive\",\"urgent\"}\n",
    "trigWord3 = {\"cash\",\"refund\",\"insurance\",\"money\",\"guaranteed\",\"save\",\"win\",\"teen\",\"weight\",\"hair\"}\n",
    "notFreeWords = {\"toll\",\"Toll\",\"freely\",\"call\",\"meet\",\"talk\",\"feedback\"}\n",
    "notFreeSubstring = {\"not free\",\"you are\",\"when\",\"wen\"}\n",
    "firstAndSecondPersonWords = {\"I\",\"i\",\"u\",\"you\",\"ur\",\"your\",\"our\",\"we\",\"us\",\"youre\"}\n",
    "thirdPersonWords = {\"He\",\"he\",\"She\",\"she\",\"they\",\"They\",\"Them\",\"them\",\"their\",\"Their\"}"
   ]
  },
  {
   "cell_type": "code",
   "execution_count": 4,
   "id": "17a305da",
   "metadata": {
    "scrolled": false
   },
   "outputs": [
    {
     "name": "stderr",
     "output_type": "stream",
     "text": [
      "2023-04-07 10:53:00.011139: I tensorflow/core/platform/cpu_feature_guard.cc:182] This TensorFlow binary is optimized to use available CPU instructions in performance-critical operations.\n",
      "To enable the following instructions: AVX2 FMA, in other operations, rebuild TensorFlow with the appropriate compiler flags.\n",
      "2023-04-07 10:53:00.615197: W tensorflow/compiler/tf2tensorrt/utils/py_utils.cc:38] TF-TRT Warning: Could not find TensorRT\n"
     ]
    },
    {
     "name": "stdout",
     "output_type": "stream",
     "text": [
      "cpu\n"
     ]
    }
   ],
   "source": [
    "import enum\n",
    "from enum import Enum\n",
    "from spear.labeling import labeling_function, LFgenerator, ABSTAIN, LFgenerator2\n",
    "\n",
    "class sampleLabels(enum.Enum):\n",
    "    red = 1\n",
    "    green = 0"
   ]
  },
  {
   "cell_type": "code",
   "execution_count": null,
   "id": "c9157a98",
   "metadata": {},
   "outputs": [],
   "source": [
    "gen = LFgenerator('imdb', 'dt', 1, 26, 'count')"
   ]
  },
  {
   "cell_type": "code",
   "execution_count": null,
   "id": "f5315eb2",
   "metadata": {},
   "outputs": [],
   "source": [
    "gen"
   ]
  },
  {
   "cell_type": "code",
   "execution_count": null,
   "id": "f089fad3",
   "metadata": {
    "scrolled": false
   },
   "outputs": [],
   "source": [
    "a = gen(r'/home/aziz/Documents/CS769/spear/spear/labeling/lf_gen/Loaders/data/imdb/', r'/home/aziz/Documents/CS769/Example_runs')"
   ]
  },
  {
   "cell_type": "code",
   "execution_count": null,
   "id": "d54cfe18",
   "metadata": {
    "scrolled": true
   },
   "outputs": [],
   "source": [
    "a"
   ]
  },
  {
   "cell_type": "code",
   "execution_count": null,
   "id": "2c895da0",
   "metadata": {},
   "outputs": [],
   "source": [
    "gen.dump(a)"
   ]
  },
  {
   "cell_type": "code",
   "execution_count": 5,
   "id": "17c8d8f4",
   "metadata": {},
   "outputs": [],
   "source": [
    "gen2 = LFgenerator2('imdb', 'dt', 1, 'count', 50, 2)"
   ]
  },
  {
   "cell_type": "code",
   "execution_count": 6,
   "id": "5020c3f1",
   "metadata": {},
   "outputs": [
    {
     "data": {
      "text/plain": [
       "dataset imdb, model dt, filter 1, numRules 50, MaxLFs 2"
      ]
     },
     "execution_count": 6,
     "metadata": {},
     "output_type": "execute_result"
    }
   ],
   "source": [
    "gen2"
   ]
  },
  {
   "cell_type": "code",
   "execution_count": 7,
   "id": "9f9ded31",
   "metadata": {
    "scrolled": false
   },
   "outputs": [
    {
     "name": "stdout",
     "output_type": "stream",
     "text": [
      "dataset is  imdb\n",
      "len(labels 1920\n",
      "labels : [ 1  1  1 ...  1 -1 -1]\n",
      "Size of validation set  142\n",
      "Size of train set  1278\n",
      "Size of test set  500\n",
      "val_primitive_matrix.shape (142, 143)\n",
      " n_classes  1\n",
      "{'love': 0, 'woman': 0, 'team': 1, 'man': 0, 'story': 0, 'government': 1, 'friend': 0, 'home': 1, 'race': 1, 'life': 0, 'date': 0, 'meets': 0, 'falls': 0, 'discovers': 0, 'boyfriend': 0, 'mafia': 0, 'school': 0, 'plan': 1, 'friendship': 0, 'girl': 0, 'space': 1, 'planet': 1, 'american': 1, 'human': 1, 'cop': 1, 'friends': 0, 'small': 0, 'set': 1, 'kidnapped': 1, 'lord': 1, 'game': 1, 'agent': 1, 'called': 1, 'real': 1, 'world': 1, 'come': 0, 'group': 1, 'finds': 0, 'party': 0, 'make': 0, 'special': 1, 'earth': 1, 'fbi': 1, 'form': 0, 'problems': 0, 'agent brings': 0, 'brings': 0, 'brings mafia': 0, 'dea': 0, 'dea agent': 0}\n",
      " train_feats.shape  (1278, 3471)\n"
     ]
    },
    {
     "name": "stderr",
     "output_type": "stream",
     "text": [
      "100%|████████████████████████████████████| 1278/1278 [00:00<00:00, 10460.65it/s]\n"
     ]
    },
    {
     "name": "stdout",
     "output_type": "stream",
     "text": [
      "val_text  142\n",
      "val_feats  (142, 3471)\n"
     ]
    },
    {
     "name": "stderr",
     "output_type": "stream",
     "text": [
      "100%|██████████████████████████████████████| 142/142 [00:00<00:00, 10848.46it/s]\n"
     ]
    },
    {
     "name": "stdout",
     "output_type": "stream",
     "text": [
      "(142, 50) val_L.shape\n"
     ]
    },
    {
     "name": "stderr",
     "output_type": "stream",
     "text": [
      "100%|██████████████████████████████████████| 500/500 [00:00<00:00, 11090.76it/s]\n"
     ]
    },
    {
     "name": "stdout",
     "output_type": "stream",
     "text": [
      "[3, 6]\n",
      "The best set is [3, 6] \n",
      " Classes of Lfs are [-1, -1]\n",
      "len(final_set)  2\n",
      "len (labels_lfs) 2\n",
      "final set is {3: 0, 6: 0}\n",
      "lx is  [0, 0]\n"
     ]
    },
    {
     "name": "stderr",
     "output_type": "stream",
     "text": [
      "\r",
      "[||||||||||          ]50% [Iteration 1 of 2]\r",
      "[||||||||||||||||||||]100% [Iteration 2 of 2]"
     ]
    }
   ],
   "source": [
    "b = gen2(r'/home/aziz/Documents/CS769/spear/spear/labeling/lf_gen/Loaders/data/imdb/', r'/home/aziz/Documents/CS769/Example_runs2')"
   ]
  },
  {
   "cell_type": "code",
   "execution_count": 8,
   "id": "d55170a2",
   "metadata": {},
   "outputs": [
    {
     "data": {
      "text/plain": [
       "[('man', '0'), ('friend', '0')]"
      ]
     },
     "execution_count": 8,
     "metadata": {},
     "output_type": "execute_result"
    }
   ],
   "source": [
    "b"
   ]
  },
  {
   "cell_type": "code",
   "execution_count": 9,
   "id": "678dde57",
   "metadata": {},
   "outputs": [],
   "source": [
    "gen2.dump(b)\n"
   ]
  },
  {
   "cell_type": "code",
   "execution_count": null,
   "id": "6afbcec9",
   "metadata": {
    "scrolled": false
   },
   "outputs": [],
   "source": [
    "gen2(r'/home/aziz/Documents/CS769/spear/spear/labeling/lf_gen/Loaders/data/twitter/', r'/home/aziz/Documents/CS769/Example_runs')"
   ]
  },
  {
   "cell_type": "code",
   "execution_count": null,
   "id": "0623b987",
   "metadata": {},
   "outputs": [],
   "source": [
    "import pickle\n"
   ]
  },
  {
   "cell_type": "code",
   "execution_count": null,
   "id": "8807483d",
   "metadata": {},
   "outputs": [],
   "source": [
    "pickle.load(r'/home/aziz/Documents/CS769/Example_runs/normal_d_processed.p')"
   ]
  },
  {
   "cell_type": "code",
   "execution_count": null,
   "id": "bf2ecae8",
   "metadata": {},
   "outputs": [],
   "source": [
    "with open(r'/home/aziz/Documents/CS769/Example_runs/normal_test_processed.p', 'rb') as f:\n",
    "    for k in pickle.load(f):\n",
    "        print(k.shape)"
   ]
  },
  {
   "cell_type": "code",
   "execution_count": null,
   "id": "dd532552",
   "metadata": {},
   "outputs": [],
   "source": [
    "x[0].shape"
   ]
  }
 ],
 "metadata": {
  "kernelspec": {
   "display_name": "Python 3 (ipykernel)",
   "language": "python",
   "name": "python3"
  },
  "language_info": {
   "codemirror_mode": {
    "name": "ipython",
    "version": 3
   },
   "file_extension": ".py",
   "mimetype": "text/x-python",
   "name": "python",
   "nbconvert_exporter": "python",
   "pygments_lexer": "ipython3",
   "version": "3.9.13"
  }
 },
 "nbformat": 4,
 "nbformat_minor": 5
}
