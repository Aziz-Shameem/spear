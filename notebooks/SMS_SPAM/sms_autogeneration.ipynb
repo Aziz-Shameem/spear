{
 "cells": [
  {
   "cell_type": "markdown",
   "id": "43beb104",
   "metadata": {},
   "source": [
    "# <font color='brown'>**SMS SPAM DETECTION**</font> "
   ]
  },
  {
   "cell_type": "markdown",
   "id": "82540d4e",
   "metadata": {},
   "source": [
    "### Installation"
   ]
  },
  {
   "cell_type": "code",
   "execution_count": 3,
   "id": "f74d2ad4",
   "metadata": {},
   "outputs": [],
   "source": [
    "import sys\n",
    "sys.path.append('../../')"
   ]
  },
  {
   "cell_type": "code",
   "execution_count": 11,
   "id": "17a305da",
   "metadata": {
    "scrolled": false
   },
   "outputs": [],
   "source": [
    "# Importing the required libraries\n",
    "import enum\n",
    "from spear.labeling import labeling_function, LFgenerator, ABSTAIN, LFgenerator2\n",
    "from spear.wisdom import Reweight"
   ]
  },
  {
   "cell_type": "code",
   "execution_count": null,
   "id": "c9157a98",
   "metadata": {},
   "outputs": [],
   "source": [
    "# Generating Labelling Functions using SNUBA\n",
    "gen = LFgenerator('sms', 'dt', 1, 26, 'count')\n",
    "gen"
   ]
  },
  {
   "cell_type": "code",
   "execution_count": null,
   "id": "f5315eb2",
   "metadata": {},
   "outputs": [],
   "source": [
    "gen"
   ]
  },
  {
   "cell_type": "code",
   "execution_count": null,
   "id": "9e9f5e7b",
   "metadata": {},
   "outputs": [],
   "source": [
    "data_dir = r'../../spear/labeling/lf_gen/Loaders/data/sms/'\n",
    "save_dir = r'Example_runs1'\n",
    "a = gen(data_dir, save_dir)"
   ]
  },
  {
   "cell_type": "code",
   "execution_count": null,
   "id": "d54cfe18",
   "metadata": {
    "scrolled": false
   },
   "outputs": [],
   "source": [
    "# The LFs are sotred in the returned variable\n",
    "for (label, word) in a :\n",
    "    print(f'label : {label}, Labeling Word : {word}')"
   ]
  },
  {
   "cell_type": "code",
   "execution_count": null,
   "id": "2c895da0",
   "metadata": {},
   "outputs": [],
   "source": [
    "# To dump all the information in pickle files, to be stored in the defined save directory\n",
    "gen.dump(a)"
   ]
  },
  {
   "cell_type": "code",
   "execution_count": 6,
   "id": "17c8d8f4",
   "metadata": {},
   "outputs": [
    {
     "data": {
      "text/plain": [
       "dataset sms, model dt, filter 0, feats count numRules 50, MaxLFs 15"
      ]
     },
     "execution_count": 6,
     "metadata": {},
     "output_type": "execute_result"
    }
   ],
   "source": [
    "# Generating Labelling Functions using Classifier Weights\n",
    "gen2 = LFgenerator2('sms', 'dt', 0, 'count', 50, 15)\n",
    "gen2"
   ]
  },
  {
   "cell_type": "code",
   "execution_count": 7,
   "id": "5020c3f1",
   "metadata": {
    "scrolled": true
   },
   "outputs": [
    {
     "name": "stdout",
     "output_type": "stream",
     "text": [
      "dataset is  sms\n",
      "Size of validation set  927\n",
      "Size of train set  8335\n",
      "Size of test set  500\n",
      "val_primitive_matrix.shape (927, 137)\n",
      " train_feats.shape  (8335, 7284)\n"
     ]
    },
    {
     "name": "stderr",
     "output_type": "stream",
     "text": [
      "100%|██████████| 8335/8335 [00:00<00:00, 32845.06it/s]\n"
     ]
    },
    {
     "name": "stdout",
     "output_type": "stream",
     "text": [
      "val_text  927\n",
      "val_feats  (927, 7284)\n"
     ]
    },
    {
     "name": "stderr",
     "output_type": "stream",
     "text": [
      "100%|██████████| 927/927 [00:00<00:00, 31626.41it/s]\n"
     ]
    },
    {
     "name": "stdout",
     "output_type": "stream",
     "text": [
      "(927, 15) val_L.shape\n"
     ]
    },
    {
     "name": "stderr",
     "output_type": "stream",
     "text": [
      "100%|██████████| 500/500 [00:00<00:00, 15941.74it/s]"
     ]
    },
    {
     "name": "stdout",
     "output_type": "stream",
     "text": [
      "label  [1, 1, 1, 1, 1, 1, 0, 1, 0, 0, 1, 1, 1, 1, 0]\n"
     ]
    },
    {
     "name": "stderr",
     "output_type": "stream",
     "text": [
      "\n"
     ]
    }
   ],
   "source": [
    "data_dir = r'../../spear/labeling/lf_gen/Loaders/data/sms/'\n",
    "save_dir = r'Example_runs2'\n",
    "b = gen2(data_dir, save_dir)"
   ]
  },
  {
   "cell_type": "code",
   "execution_count": 8,
   "id": "9f9ded31",
   "metadata": {
    "scrolled": false
   },
   "outputs": [
    {
     "name": "stdout",
     "output_type": "stream",
     "text": [
      "label : 1, Labeling Word : ok\n",
      "label : 1, Labeling Word : ll\n",
      "label : 1, Labeling Word : going\n",
      "label : 1, Labeling Word : come\n",
      "label : 1, Labeling Word : sorry\n",
      "label : 1, Labeling Word : yup\n",
      "label : 0, Labeling Word : txt\n",
      "label : 1, Labeling Word : late\n",
      "label : 0, Labeling Word : urgent\n",
      "label : 0, Labeling Word : mobile\n",
      "label : 1, Labeling Word : good\n",
      "label : 1, Labeling Word : dear\n",
      "label : 1, Labeling Word : yeah\n",
      "label : 1, Labeling Word : later\n",
      "label : 0, Labeling Word : won\n"
     ]
    }
   ],
   "source": [
    "# The LFs are sotred in the returned variable\n",
    "for (label, word) in b :\n",
    "    print(f'label : {label}, Labeling Word : {word}')"
   ]
  },
  {
   "cell_type": "code",
   "execution_count": 9,
   "id": "d55170a2",
   "metadata": {},
   "outputs": [],
   "source": [
    "# To dump all the information in pickle files, to be stored in the defined save directory\n",
    "gen2.dump(b)"
   ]
  },
  {
   "cell_type": "markdown",
   "id": "64d5d402",
   "metadata": {},
   "source": [
    "## Reweighing LFs : WISDOM"
   ]
  },
  {
   "cell_type": "code",
   "execution_count": 12,
   "id": "28fe3e08",
   "metadata": {},
   "outputs": [],
   "source": [
    "datapath = r'Example_runs1'\n",
    "rwt = Reweight(datapath=datapath, num_classes=2)"
   ]
  },
  {
   "cell_type": "code",
   "execution_count": 13,
   "id": "b4d67a58",
   "metadata": {},
   "outputs": [
    {
     "data": {
      "text/plain": [
       "datapath Example_runs1, number of classes 2"
      ]
     },
     "execution_count": 13,
     "metadata": {},
     "output_type": "execute_result"
    }
   ],
   "source": [
    "rwt"
   ]
  },
  {
   "cell_type": "code",
   "execution_count": 14,
   "id": "aa8bb763",
   "metadata": {},
   "outputs": [
    {
     "name": "stdout",
     "output_type": "stream",
     "text": [
      "cpu\n",
      "dset is  example_runs1\n",
      "fname is  Example_runs1/normal_d_processed.p\n",
      "no of excludings are  4341\n",
      "Length of U is 3994\n",
      "LFs are  tensor([0, 0, 0,  ..., 0, 0, 0])\n",
      "no of lfs are  25\n",
      "num runs are  2\n",
      "Early Stopping at 7 0.38450695386457223 0.9073462350344028\n",
      "Validation score Early Stopping at 7 0.909400278940028 0.3747358964547738\n",
      "Best Epoch LR 7\n",
      "Best Epoch GM 7\n",
      "Run \t 0 Epoch, GM, LR \t 0.38450695386457223 0.9073462350344028\n",
      "Run \t 0 GM Val, LR Val \t 0.3747358964547738 0.909400278940028\n",
      "num runs are  2\n",
      "Early Stopping at 8 0.4344360738071842 0.90508846966264\n",
      "Validation score Early Stopping at 8 0.9222389810625105 0.4290516206482592\n",
      "Best Epoch LR 8\n",
      "Best Epoch GM 8\n",
      "Run \t 1 Epoch, GM, LR \t 0.4344360738071842 0.90508846966264\n",
      "Run \t 1 GM Val, LR Val \t 0.4290516206482592 0.9222389810625105\n",
      "===================================================\n",
      "TEST Averaged scores LR 0.9062173523485214\n",
      "TEST Precision averaged scores LR 0.9155625975732955\n",
      "TEST Recall averaged scores LR 0.9053374743852459\n",
      "===================================================\n",
      "TEST Averaged scores GM 0.4094715138358782\n",
      "TEST Precision averaged scores GM 0.49194492669767764\n",
      "TEST Recall averaged scores GM 0.4947329661885246\n",
      "===================================================\n",
      "VALIDATION Averaged scores are GM,LR 0.4018937585515165 0.9158196300012692\n",
      "TEST STD GM,LR 0.024964559971305977 0.001128882685881405\n",
      "VALIDATION STD GM,LR 0.027157862096742702 0.006419351061241252\n",
      "Sorted weights  [ 0 22 20 19 18 16 15 14 11 12  8  7  5  2 24 17 23 21  1 10  4 13  6  9\n",
      "  3]\n"
     ]
    }
   ],
   "source": [
    "rwt(num_runs=2, batch_size=32, lr_lr=0.0003, gm_lr=0.01)"
   ]
  },
  {
   "cell_type": "code",
   "execution_count": null,
   "id": "44493de8",
   "metadata": {},
   "outputs": [],
   "source": []
  }
 ],
 "metadata": {
  "kernelspec": {
   "display_name": "Python 3",
   "language": "python",
   "name": "python3"
  },
  "language_info": {
   "codemirror_mode": {
    "name": "ipython",
    "version": 3
   },
   "file_extension": ".py",
   "mimetype": "text/x-python",
   "name": "python",
   "nbconvert_exporter": "python",
   "pygments_lexer": "ipython3",
   "version": "3.8.0"
  }
 },
 "nbformat": 4,
 "nbformat_minor": 5
}
