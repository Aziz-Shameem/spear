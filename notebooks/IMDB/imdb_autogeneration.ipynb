{
 "cells": [
  {
   "cell_type": "markdown",
   "id": "4f4b3592",
   "metadata": {},
   "source": [
    "## IMDB Labeling : Auto Generation of LFs"
   ]
  },
  {
   "cell_type": "code",
   "execution_count": 1,
   "id": "9e180495",
   "metadata": {},
   "outputs": [],
   "source": [
    "# Installation\n",
    "\n",
    "import sys\n",
    "sys.path.append('../../')"
   ]
  },
  {
   "cell_type": "code",
   "execution_count": 7,
   "id": "5716e6e2",
   "metadata": {},
   "outputs": [],
   "source": [
    "# Importing all required modules \n",
    "import enum\n",
    "import numpy as np\n",
    "from spear.labeling import labeling_function, LFgenerator, LFgenerator2, ABSTAIN\n",
    "from spear.wisdom import Reweight"
   ]
  },
  {
   "cell_type": "code",
   "execution_count": 9,
   "id": "37e293c7",
   "metadata": {},
   "outputs": [
    {
     "data": {
      "text/plain": [
       "dataset imdb, model dt, card 1, loops 26, features count"
      ]
     },
     "execution_count": 9,
     "metadata": {},
     "output_type": "execute_result"
    }
   ],
   "source": [
    "# Generating Labelling Functions using SNUBA\n",
    "gen = LFgenerator('imdb', 'dt', 1, 26, 'count')\n",
    "gen"
   ]
  },
  {
   "cell_type": "code",
   "execution_count": 10,
   "id": "6b1514a0",
   "metadata": {},
   "outputs": [
    {
     "name": "stdout",
     "output_type": "stream",
     "text": [
      "save path : Example_runs1\n",
      "dataset is  imdb\n",
      "/home/aziz/Documents/Projects/CS769/spear/notebooks/IMDB\n",
      "len(labels 1920\n",
      "labels : [ 1  1  1 ...  1 -1 -1]\n",
      "test length  500\n",
      "train primitive matrix : (1278, 143)\n",
      "Size of validation set  142\n",
      "Size of train set  1278\n",
      "Size of test set  500\n",
      "val_primitive_matrix.shape (142, 143)\n",
      "save_path Example_runs1\n",
      "self.b 0.5\n",
      "Remaining to be labelled  140\n",
      "Remaining to be labelled  139\n",
      "Remaining to be labelled  142\n",
      "Remaining to be labelled  142\n",
      "Running iteration:  5\n",
      "Remaining to be labelled  142\n",
      "Remaining to be labelled  142\n",
      "Remaining to be labelled  142\n",
      "Remaining to be labelled  142\n",
      "Remaining to be labelled  142\n",
      "Running iteration:  10\n",
      "Remaining to be labelled  142\n",
      "Remaining to be labelled  142\n",
      "Remaining to be labelled  142\n",
      "Remaining to be labelled  140\n",
      "Remaining to be labelled  136\n",
      "Running iteration:  15\n",
      "Remaining to be labelled  137\n",
      "Remaining to be labelled  136\n",
      "Remaining to be labelled  136\n",
      "Remaining to be labelled  137\n",
      "Remaining to be labelled  136\n",
      "Running iteration:  20\n",
      "Remaining to be labelled  136\n",
      "Remaining to be labelled  135\n",
      "Remaining to be labelled  133\n",
      "labels saved\n",
      "Remaining to be labelled  131\n",
      "Program Synthesis Train Accuracy:  0.7758007117437722\n",
      "Program Synthesis Train Coverage:  0.4397496087636933\n",
      "Program Synthesis Validation Accuracy:  0.9024390243902439\n",
      "(1278, 25) (142, 25) (500, 25)\n",
      "LFS are  [0 0 1 1 0 0 0 1 1 0 0 1 0 1 1 1 0 1 1 0 1 0 0 0 0]\n"
     ]
    }
   ],
   "source": [
    "data_dir = r'../../spear/labeling/lf_gen/Loaders/data/imdb/'\n",
    "save_dir = r'Example_runs1'\n",
    "a = gen(data_dir, save_dir)"
   ]
  },
  {
   "cell_type": "code",
   "execution_count": 11,
   "id": "2d1312cf",
   "metadata": {},
   "outputs": [
    {
     "name": "stdout",
     "output_type": "stream",
     "text": [
      "label : 0, Labeling Word : love\n",
      "label : 0, Labeling Word : man\n",
      "label : 1, Labeling Word : team\n",
      "label : 1, Labeling Word : government\n",
      "label : 0, Labeling Word : boyfriend\n",
      "label : 0, Labeling Word : discovers\n",
      "label : 0, Labeling Word : friend\n",
      "label : 1, Labeling Word : race\n",
      "label : 1, Labeling Word : agent\n",
      "label : 0, Labeling Word : friendship\n",
      "label : 0, Labeling Word : story\n",
      "label : 1, Labeling Word : home\n",
      "label : 0, Labeling Word : falls\n",
      "label : 1, Labeling Word : government\n",
      "label : 1, Labeling Word : government\n",
      "label : 1, Labeling Word : government\n",
      "label : 0, Labeling Word : finds\n",
      "label : 1, Labeling Word : government\n",
      "label : 1, Labeling Word : cop\n",
      "label : 0, Labeling Word : woman\n",
      "label : 1, Labeling Word : government\n",
      "label : 0, Labeling Word : boyfriend\n",
      "label : 0, Labeling Word : boyfriend\n",
      "label : 0, Labeling Word : boyfriend\n",
      "label : 0, Labeling Word : boyfriend\n"
     ]
    }
   ],
   "source": [
    "# The LFs are sotred in the returned variable\n",
    "for (label, word) in a :\n",
    "    print(f'label : {label}, Labeling Word : {word}')"
   ]
  },
  {
   "cell_type": "code",
   "execution_count": 12,
   "id": "5665845c",
   "metadata": {},
   "outputs": [
    {
     "name": "stdout",
     "output_type": "stream",
     "text": [
      "Final Size of d set , U set  , validation set , test set 71 1278 71 500\n",
      "final LFs are  (25,)\n"
     ]
    }
   ],
   "source": [
    "# To dump all the information in pickle files, to be stored in the defined save directory\n",
    "gen.dump(a)"
   ]
  },
  {
   "cell_type": "code",
   "execution_count": 3,
   "id": "cc9bca2b",
   "metadata": {},
   "outputs": [
    {
     "data": {
      "text/plain": [
       "dataset imdb, model dt, filter 0, feats count numRules 50, MaxLFs 15"
      ]
     },
     "execution_count": 3,
     "metadata": {},
     "output_type": "execute_result"
    }
   ],
   "source": [
    "# Generating Labelling Functions using Classifier Weights\n",
    "gen2 = LFgenerator2('imdb', 'dt', 0, 'count', 50, 15)\n",
    "gen2"
   ]
  },
  {
   "cell_type": "code",
   "execution_count": 4,
   "id": "f3a346a1",
   "metadata": {},
   "outputs": [
    {
     "name": "stdout",
     "output_type": "stream",
     "text": [
      "dataset is  imdb\n",
      "len(labels 1920\n",
      "labels : [ 1  1  1 ...  1 -1 -1]\n",
      "Size of validation set  142\n",
      "Size of train set  1278\n",
      "Size of test set  500\n",
      "val_primitive_matrix.shape (142, 143)\n",
      " train_feats.shape  (1278, 3471)\n"
     ]
    },
    {
     "name": "stderr",
     "output_type": "stream",
     "text": [
      "100%|██████████| 1278/1278 [00:00<00:00, 40791.74it/s]\n"
     ]
    },
    {
     "name": "stdout",
     "output_type": "stream",
     "text": [
      "val_text  142\n",
      "val_feats  (142, 3471)\n"
     ]
    },
    {
     "name": "stderr",
     "output_type": "stream",
     "text": [
      "100%|██████████| 142/142 [00:00<00:00, 39042.36it/s]\n"
     ]
    },
    {
     "name": "stdout",
     "output_type": "stream",
     "text": [
      "(142, 15) val_L.shape\n"
     ]
    },
    {
     "name": "stderr",
     "output_type": "stream",
     "text": [
      "100%|██████████| 500/500 [00:00<00:00, 35693.77it/s]"
     ]
    },
    {
     "name": "stdout",
     "output_type": "stream",
     "text": [
      "label  [0, 0, 1, 0, 0, 1, 0, 1, 1, 0, 0, 0, 0, 0, 0]\n"
     ]
    },
    {
     "name": "stderr",
     "output_type": "stream",
     "text": [
      "\n"
     ]
    }
   ],
   "source": [
    "data_dir = r'../../spear/labeling/lf_gen/Loaders/data/imdb/'\n",
    "save_dir = r'Example_runs2'\n",
    "b = gen2(data_dir, save_dir)"
   ]
  },
  {
   "cell_type": "code",
   "execution_count": 5,
   "id": "34a7c323",
   "metadata": {},
   "outputs": [
    {
     "name": "stdout",
     "output_type": "stream",
     "text": [
      "label : 0, Labeling Word : love\n",
      "label : 0, Labeling Word : woman\n",
      "label : 1, Labeling Word : team\n",
      "label : 0, Labeling Word : man\n",
      "label : 0, Labeling Word : story\n",
      "label : 1, Labeling Word : government\n",
      "label : 0, Labeling Word : friend\n",
      "label : 1, Labeling Word : home\n",
      "label : 1, Labeling Word : race\n",
      "label : 0, Labeling Word : life\n",
      "label : 0, Labeling Word : date\n",
      "label : 0, Labeling Word : meets\n",
      "label : 0, Labeling Word : falls\n",
      "label : 0, Labeling Word : discovers\n",
      "label : 0, Labeling Word : boyfriend\n"
     ]
    }
   ],
   "source": [
    "# The LFs are sotred in the returned variable\n",
    "for (label, word) in b :\n",
    "    print(f'label : {label}, Labeling Word : {word}')"
   ]
  },
  {
   "cell_type": "code",
   "execution_count": 6,
   "id": "acb0a57f",
   "metadata": {},
   "outputs": [],
   "source": [
    "# To dump all the information in pickle files, to be stored in the defined save directory\n",
    "gen2.dump(b)"
   ]
  },
  {
   "cell_type": "markdown",
   "id": "22060820",
   "metadata": {},
   "source": [
    "## Reweighing the LFs : WISDOM"
   ]
  },
  {
   "cell_type": "code",
   "execution_count": 8,
   "id": "a25c4626",
   "metadata": {},
   "outputs": [],
   "source": [
    "datapath = r'Example_runs1'\n",
    "rwt = Reweight(datapath=datapath, num_classes=2)"
   ]
  },
  {
   "cell_type": "code",
   "execution_count": 9,
   "id": "04bd9e70",
   "metadata": {},
   "outputs": [
    {
     "data": {
      "text/plain": [
       "datapath Example_runs1, number of classes 2"
      ]
     },
     "execution_count": 9,
     "metadata": {},
     "output_type": "execute_result"
    }
   ],
   "source": [
    "rwt"
   ]
  },
  {
   "cell_type": "code",
   "execution_count": 10,
   "id": "e367e86b",
   "metadata": {},
   "outputs": [
    {
     "name": "stdout",
     "output_type": "stream",
     "text": [
      "cpu\n",
      "dset is  example_runs1\n",
      "fname is  Example_runs1/normal_d_processed.p\n",
      "no of excludings are  716\n",
      "Length of U is 562\n",
      "LFs are  tensor([0, 0, 1,  ..., 0, 0, 0])\n",
      "no of lfs are  25\n",
      "num runs are  2\n",
      "Early Stopping at 13 0.47544028618602097 0.631947000368053\n",
      "Validation score Early Stopping at 13 0.6586538461538461 0.4213166144200627\n",
      "Best Epoch LR 13\n",
      "Best Epoch GM 13\n",
      "Run \t 0 Epoch, GM, LR \t 0.47544028618602097 0.631947000368053\n",
      "Run \t 0 GM Val, LR Val \t 0.4213166144200627 0.6586538461538461\n",
      "num runs are  2\n",
      "Early Stopping at 15 0.4597759038530246 0.6054302412683915\n",
      "Validation score Early Stopping at 15 0.6737262737262737 0.6017628205128205\n",
      "Best Epoch LR 15\n",
      "Best Epoch GM 15\n",
      "Run \t 1 Epoch, GM, LR \t 0.4597759038530246 0.6054302412683915\n",
      "Run \t 1 GM Val, LR Val \t 0.6017628205128205 0.6737262737262737\n",
      "===================================================\n",
      "TEST Averaged scores LR 0.6186886208182223\n",
      "TEST Precision averaged scores LR 0.6191344359777246\n",
      "TEST Recall averaged scores LR 0.6193747894306204\n",
      "===================================================\n",
      "TEST Averaged scores GM 0.4676080950195228\n",
      "TEST Precision averaged scores GM 0.49034944064268216\n",
      "TEST Recall averaged scores GM 0.4925518602300621\n",
      "===================================================\n",
      "VALIDATION Averaged scores are GM,LR 0.5115397174664416 0.6661900599400599\n",
      "TEST STD GM,LR 0.007832191166498192 0.013258379549830723\n",
      "VALIDATION STD GM,LR 0.0902231030463789 0.007536213786213775\n",
      "Sorted weights  [12 19  5 16 10 11 17 20  3 15 13 14  6  9  1  0  2  8 18  7  4 21 22 23\n",
      " 24]\n"
     ]
    }
   ],
   "source": [
    "rwt(num_runs=2, batch_size=32, lr_lr=0.0003, gm_lr=0.01)"
   ]
  },
  {
   "cell_type": "code",
   "execution_count": null,
   "id": "a12aba99",
   "metadata": {},
   "outputs": [],
   "source": []
  }
 ],
 "metadata": {
  "kernelspec": {
   "display_name": "Python 3",
   "language": "python",
   "name": "python3"
  },
  "language_info": {
   "codemirror_mode": {
    "name": "ipython",
    "version": 3
   },
   "file_extension": ".py",
   "mimetype": "text/x-python",
   "name": "python",
   "nbconvert_exporter": "python",
   "pygments_lexer": "ipython3",
   "version": "3.8.0"
  }
 },
 "nbformat": 4,
 "nbformat_minor": 5
}
