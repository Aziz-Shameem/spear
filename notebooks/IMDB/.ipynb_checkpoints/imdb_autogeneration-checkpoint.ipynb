{
 "cells": [
  {
   "cell_type": "markdown",
   "id": "4f4b3592",
   "metadata": {},
   "source": [
    "## IMDB Labeling : Auto Generation of LFs"
   ]
  },
  {
   "cell_type": "code",
   "execution_count": 1,
   "id": "9e180495",
   "metadata": {},
   "outputs": [],
   "source": [
    "# Installation\n",
    "\n",
    "import sys\n",
    "sys.path.append('../../')"
   ]
  },
  {
   "cell_type": "code",
   "execution_count": 2,
   "id": "5716e6e2",
   "metadata": {},
   "outputs": [
    {
     "name": "stderr",
     "output_type": "stream",
     "text": [
      "2023-04-07 11:16:22.302406: I tensorflow/core/platform/cpu_feature_guard.cc:182] This TensorFlow binary is optimized to use available CPU instructions in performance-critical operations.\n",
      "To enable the following instructions: AVX2 FMA, in other operations, rebuild TensorFlow with the appropriate compiler flags.\n",
      "2023-04-07 11:16:22.898045: W tensorflow/compiler/tf2tensorrt/utils/py_utils.cc:38] TF-TRT Warning: Could not find TensorRT\n"
     ]
    },
    {
     "name": "stdout",
     "output_type": "stream",
     "text": [
      "cpu\n"
     ]
    }
   ],
   "source": [
    "# Importing all required modules \n",
    "import enum\n",
    "from spear.labeling import labeling_function, LFgenerator, LFgenerator2, ABSTAIN\n"
   ]
  },
  {
   "cell_type": "code",
   "execution_count": 3,
   "id": "37e293c7",
   "metadata": {},
   "outputs": [
    {
     "data": {
      "text/plain": [
       "dataset imdb, model dt, card 1, loops 26, features count"
      ]
     },
     "execution_count": 3,
     "metadata": {},
     "output_type": "execute_result"
    }
   ],
   "source": [
    "# Generating Labelling Functions using SNUBA\n",
    "gen = LFgenerator('imdb', 'dt', 1, 26, 'count')\n",
    "gen"
   ]
  },
  {
   "cell_type": "code",
   "execution_count": 4,
   "id": "6b1514a0",
   "metadata": {},
   "outputs": [
    {
     "name": "stdout",
     "output_type": "stream",
     "text": [
      "save path : /home/aziz/Documents/CS769/Example_runs\n",
      "dataset is  imdb\n",
      "/home/aziz/Documents/CS769/spear/notebooks/IMDB\n",
      "len(labels 1920\n",
      "labels : [ 1  1  1 ...  1 -1 -1]\n",
      "test length  500\n",
      "train primitive matrix : (1278, 143)\n",
      "Size of validation set  142\n",
      "Size of train set  1278\n",
      "Size of test set  500\n",
      "val_primitive_matrix.shape (142, 143)\n",
      "save_path /home/aziz/Documents/CS769/Example_runs\n",
      "self.b 0.5\n",
      "Remaining to be labelled  140\n",
      "Remaining to be labelled  139\n",
      "Remaining to be labelled  142\n",
      "Remaining to be labelled  142\n",
      "Running iteration:  5\n",
      "Remaining to be labelled  142\n",
      "Remaining to be labelled  142\n",
      "Remaining to be labelled  142\n",
      "Remaining to be labelled  142\n",
      "Remaining to be labelled  142\n",
      "Running iteration:  10\n",
      "Remaining to be labelled  142\n",
      "Remaining to be labelled  142\n",
      "Remaining to be labelled  142\n",
      "Remaining to be labelled  140\n",
      "Remaining to be labelled  136\n",
      "Running iteration:  15\n",
      "Remaining to be labelled  137\n",
      "Remaining to be labelled  136\n",
      "Remaining to be labelled  136\n",
      "Remaining to be labelled  137\n",
      "Remaining to be labelled  136\n",
      "Running iteration:  20\n",
      "Remaining to be labelled  136\n",
      "Remaining to be labelled  135\n",
      "Remaining to be labelled  133\n",
      "labels saved\n",
      "Remaining to be labelled  131\n",
      "Program Synthesis Train Accuracy:  0.7758007117437722\n",
      "Program Synthesis Train Coverage:  0.4397496087636933\n",
      "Program Synthesis Validation Accuracy:  0.9024390243902439\n",
      "(1278, 25) (142, 25) (500, 25)\n",
      "LFS are  [0 0 1 1 0 0 0 1 1 0 0 1 0 1 1 1 0 1 1 0 1 0 0 0 0]\n"
     ]
    }
   ],
   "source": [
    "data_dir = r'/home/aziz/Documents/CS769/spear/spear/labeling/lf_gen/Loaders/data/imdb/'\n",
    "save_dir = r'/home/aziz/Documents/CS769/Example_runs'\n",
    "a = gen(data_dir, save_dir)"
   ]
  },
  {
   "cell_type": "code",
   "execution_count": 5,
   "id": "2d1312cf",
   "metadata": {},
   "outputs": [
    {
     "name": "stdout",
     "output_type": "stream",
     "text": [
      "label : 0, Labeling Word : love\n",
      "label : 0, Labeling Word : man\n",
      "label : 1, Labeling Word : team\n",
      "label : 1, Labeling Word : government\n",
      "label : 0, Labeling Word : boyfriend\n",
      "label : 0, Labeling Word : discovers\n",
      "label : 0, Labeling Word : friend\n",
      "label : 1, Labeling Word : race\n",
      "label : 1, Labeling Word : agent\n",
      "label : 0, Labeling Word : friendship\n",
      "label : 0, Labeling Word : story\n",
      "label : 1, Labeling Word : home\n",
      "label : 0, Labeling Word : falls\n",
      "label : 1, Labeling Word : government\n",
      "label : 1, Labeling Word : government\n",
      "label : 1, Labeling Word : government\n",
      "label : 0, Labeling Word : finds\n",
      "label : 1, Labeling Word : government\n",
      "label : 1, Labeling Word : cop\n",
      "label : 0, Labeling Word : woman\n",
      "label : 1, Labeling Word : government\n",
      "label : 0, Labeling Word : boyfriend\n",
      "label : 0, Labeling Word : boyfriend\n",
      "label : 0, Labeling Word : boyfriend\n",
      "label : 0, Labeling Word : boyfriend\n"
     ]
    }
   ],
   "source": [
    "# The LFs are sotred in the returned variable\n",
    "for (label, word) in a :\n",
    "    print(f'label : {label}, Labeling Word : {word}')"
   ]
  },
  {
   "cell_type": "code",
   "execution_count": 6,
   "id": "5665845c",
   "metadata": {},
   "outputs": [
    {
     "name": "stdout",
     "output_type": "stream",
     "text": [
      "Final Size of d set , U set  , validation set , test set 71 1278 71 500\n",
      "final LFs are  (25,)\n"
     ]
    }
   ],
   "source": [
    "# To dump all the information in pickle files, to be stored in the defined save directory\n",
    "gen.dump(a)"
   ]
  },
  {
   "cell_type": "code",
   "execution_count": 7,
   "id": "cc9bca2b",
   "metadata": {},
   "outputs": [
    {
     "data": {
      "text/plain": [
       "dataset imdb, model dt, filter 0, feats count numRules 50, MaxLFs 15"
      ]
     },
     "execution_count": 7,
     "metadata": {},
     "output_type": "execute_result"
    }
   ],
   "source": [
    "# Generating Labelling Functions using Classifier Weights\n",
    "gen2 = LFgenerator2('imdb', 'dt', 0, 'count', 50, 15)\n",
    "gen2"
   ]
  },
  {
   "cell_type": "code",
   "execution_count": 8,
   "id": "f3a346a1",
   "metadata": {},
   "outputs": [
    {
     "name": "stdout",
     "output_type": "stream",
     "text": [
      "dataset is  imdb\n",
      "len(labels 1920\n",
      "labels : [ 1  1  1 ...  1 -1 -1]\n",
      "Size of validation set  142\n",
      "Size of train set  1278\n",
      "Size of test set  500\n",
      "val_primitive_matrix.shape (142, 143)\n",
      " n_classes  1\n",
      "{'love': 0, 'woman': 0, 'team': 1, 'man': 0, 'story': 0, 'government': 1, 'friend': 0, 'home': 1, 'race': 1, 'life': 0, 'date': 0, 'meets': 0, 'falls': 0, 'discovers': 0, 'boyfriend': 0}\n",
      " train_feats.shape  (1278, 3471)\n"
     ]
    },
    {
     "name": "stderr",
     "output_type": "stream",
     "text": [
      "100%|████████████████████████████████████| 1278/1278 [00:00<00:00, 32264.07it/s]\n"
     ]
    },
    {
     "name": "stdout",
     "output_type": "stream",
     "text": [
      "val_text  142\n",
      "val_feats  (142, 3471)\n"
     ]
    },
    {
     "name": "stderr",
     "output_type": "stream",
     "text": [
      "100%|██████████████████████████████████████| 142/142 [00:00<00:00, 21895.93it/s]\n"
     ]
    },
    {
     "name": "stdout",
     "output_type": "stream",
     "text": [
      "(142, 15) val_L.shape\n"
     ]
    },
    {
     "name": "stderr",
     "output_type": "stream",
     "text": [
      "100%|██████████████████████████████████████| 500/500 [00:00<00:00, 29466.80it/s]"
     ]
    },
    {
     "name": "stdout",
     "output_type": "stream",
     "text": [
      "label  [0, 0, 1, 0, 0, 1, 0, 1, 1, 0, 0, 0, 0, 0, 0]\n"
     ]
    },
    {
     "name": "stderr",
     "output_type": "stream",
     "text": [
      "\n"
     ]
    }
   ],
   "source": [
    "data_dir = r'/home/aziz/Documents/CS769/spear/spear/labeling/lf_gen/Loaders/data/imdb/'\n",
    "save_dir = r'/home/aziz/Documents/CS769/Example_runs2'\n",
    "b = gen2(data_dir, save_dir)"
   ]
  },
  {
   "cell_type": "code",
   "execution_count": 9,
   "id": "34a7c323",
   "metadata": {},
   "outputs": [
    {
     "name": "stdout",
     "output_type": "stream",
     "text": [
      "label : 0, Labeling Word : love\n",
      "label : 0, Labeling Word : woman\n",
      "label : 1, Labeling Word : team\n",
      "label : 0, Labeling Word : man\n",
      "label : 0, Labeling Word : story\n",
      "label : 1, Labeling Word : government\n",
      "label : 0, Labeling Word : friend\n",
      "label : 1, Labeling Word : home\n",
      "label : 1, Labeling Word : race\n",
      "label : 0, Labeling Word : life\n",
      "label : 0, Labeling Word : date\n",
      "label : 0, Labeling Word : meets\n",
      "label : 0, Labeling Word : falls\n",
      "label : 0, Labeling Word : discovers\n",
      "label : 0, Labeling Word : boyfriend\n"
     ]
    }
   ],
   "source": [
    "# The LFs are sotred in the returned variable\n",
    "for (label, word) in b :\n",
    "    print(f'label : {label}, Labeling Word : {word}')"
   ]
  },
  {
   "cell_type": "code",
   "execution_count": 10,
   "id": "acb0a57f",
   "metadata": {},
   "outputs": [],
   "source": [
    "# To dump all the information in pickle files, to be stored in the defined save directory\n",
    "gen2.dump(b)"
   ]
  }
 ],
 "metadata": {
  "kernelspec": {
   "display_name": "Python 3 (ipykernel)",
   "language": "python",
   "name": "python3"
  },
  "language_info": {
   "codemirror_mode": {
    "name": "ipython",
    "version": 3
   },
   "file_extension": ".py",
   "mimetype": "text/x-python",
   "name": "python",
   "nbconvert_exporter": "python",
   "pygments_lexer": "ipython3",
   "version": "3.9.13"
  }
 },
 "nbformat": 4,
 "nbformat_minor": 5
}
